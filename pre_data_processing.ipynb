{
 "cells": [
  {
   "cell_type": "markdown",
   "metadata": {},
   "source": [
    "## Data Source:\n",
    "\n",
    "https://data.open-power-system-data.org/renewable_power_plants/2020-08-25"
   ]
  },
  {
   "cell_type": "markdown",
   "metadata": {},
   "source": [
    "## Step1. Data Cleaning"
   ]
  },
  {
   "cell_type": "code",
   "execution_count": null,
   "metadata": {},
   "outputs": [],
   "source": [
    "import pandas as pd\n",
    "\n",
    "# Define the file path and column data types\n",
    "file_path = '/renewable_power_plants_EU.csv'\n",
    "dtypes = {'energy_source_level_3': str, 'commissioning_date': str}\n",
    "\n",
    "# Define the chunk size for reading in the data\n",
    "chunk_size = 100000\n",
    "\n",
    "# Initialize an empty list to store the filtered data\n",
    "filtered_data = []\n",
    "\n",
    "# Iterate through the data in chunks\n",
    "for chunk in pd.read_csv(file_path, dtype=dtypes, chunksize=chunk_size):\n",
    "    \n",
    "    # Filter the columns to keep\n",
    "    keep_cols = ['electrical_capacity', 'energy_source_level_2', 'technology', \n",
    "                 'nuts_1_region', 'nuts_2_region', 'nuts_3_region', 'lon', 'lat',\n",
    "                 'municipality', 'country', 'commissioning_date']\n",
    "    chunk = chunk[keep_cols]\n",
    "\n",
    "    # Filter the rows\n",
    "    chunk = chunk[chunk['energy_source_level_2'] == 'Wind'] # Only keep rows where energy_source_level_2 is 'Wind'\n",
    "    \n",
    "    # Drop duplicates\n",
    "    chunk = chunk.drop_duplicates()\n",
    "\n",
    "    # Append the filtered data to the list\n",
    "    filtered_data.append(chunk)\n",
    "\n",
    "# Concatenate the filtered data into a single DataFrame\n",
    "df = pd.concat(filtered_data, ignore_index=True)\n",
    "\n",
    "# Save cleaned data to a new CSV file\n",
    "df.to_csv('/wind_energy_EU_cleaned.csv', index=False)"
   ]
  },
  {
   "cell_type": "markdown",
   "metadata": {},
   "source": [
    "## Step2. Data Storage"
   ]
  },
  {
   "cell_type": "code",
   "execution_count": null,
   "metadata": {},
   "outputs": [],
   "source": [
    "import pandas as pd\n",
    "import psycopg2\n",
    "\n",
    "# Connect to the PostgreSQL database\n",
    "conn = psycopg2.connect(database=\"mydatabase\", user=\"myuser\", password=\"mypassword\", host=\"localhost\", port=\"5432\")\n",
    "\n",
    "# Read the CSV file into a Pandas DataFrame\n",
    "df = pd.read_csv('/wind_energy_EU_cleaned.csv')\n",
    "\n",
    "# Insert the data into a PostgreSQL table\n",
    "df.to_sql('mytable', conn, if_exists='replace')"
   ]
  }
 ],
 "metadata": {
  "kernelspec": {
   "display_name": "Python 3",
   "language": "python",
   "name": "python3"
  },
  "language_info": {
   "name": "python",
   "version": "3.9.1"
  },
  "orig_nbformat": 4
 },
 "nbformat": 4,
 "nbformat_minor": 2
}
