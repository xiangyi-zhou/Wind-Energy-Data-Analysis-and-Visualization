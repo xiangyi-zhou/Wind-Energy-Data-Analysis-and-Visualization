{
 "cells": [
  {
   "attachments": {},
   "cell_type": "markdown",
   "metadata": {},
   "source": [
    "### Data Pipeline\n",
    "Data Sources: CSV files containing wind speed and direction data from remote sensing devices.\n",
    "\n",
    "Data Cleaning: Clean and preprocess the data using Python libraries such as Pandas. Remove duplicates, handle missing values, and ensure data consistency.\n",
    "\n",
    "Data Storage: Store the cleaned data into a PostgreSQL database. Use SQL queries to optimize data storage and retrieval.\n",
    "\n",
    "Machine Learning: Utilize machine learning algorithms to analyze the data, such as regression analysis or clustering. Use Python libraries such as Scikit-learn or TensorFlow.\n",
    "\n",
    "Data Analytics: Generate insights and identify patterns in the data using Python libraries such as Matplotlib, Seaborn, or Plotly.\n",
    "\n",
    "Data Visualization: Create interactive dashboards and visualizations using Tableau, allowing users to explore and interact with the data easily.\n",
    "\n",
    "Presentation: Present the insights and findings to stakeholders using the Tableau dashboard."
   ]
  },
  {
   "attachments": {},
   "cell_type": "markdown",
   "metadata": {},
   "source": [
    "## Data Source:\n",
    "\n",
    "https://data.open-power-system-data.org/renewable_power_plants/2020-08-25"
   ]
  },
  {
   "attachments": {},
   "cell_type": "markdown",
   "metadata": {},
   "source": [
    "## Step1. Data Cleaning"
   ]
  },
  {
   "cell_type": "code",
   "execution_count": null,
   "metadata": {},
   "outputs": [],
   "source": [
    "# read the original column headers from a CSV file \n",
    "import csv\n",
    "\n",
    "with open('data source/renewable_power_plants_EU.csv', 'r') as f:\n",
    "    reader = csv.reader(f)\n",
    "    headers = next(reader) # Read the first row as column headers\n",
    "    print(headers) # Print the headers to verify they have been read correctly"
   ]
  },
  {
   "cell_type": "code",
   "execution_count": null,
   "metadata": {},
   "outputs": [],
   "source": [
    "import pandas as pd\n",
    "\n",
    "# Define the file path and column data types\n",
    "file_path = 'data source/renewable_power_plants_EU.csv'\n",
    "dtypes = {'energy_source_level_3': str, 'commissioning_date': str}\n",
    "\n",
    "# Define the chunk size for reading in the data\n",
    "chunk_size = 100000\n",
    "\n",
    "# Initialize an empty list to store the filtered data\n",
    "filtered_data = []\n",
    "\n",
    "# Iterate through the data in chunks\n",
    "for chunk in pd.read_csv(file_path, dtype=dtypes, chunksize=chunk_size):\n",
    "    \n",
    "    # Filter the columns to keep\n",
    "    keep_cols = ['electrical_capacity', 'energy_source_level_2', 'technology', \n",
    "                 'nuts_1_region', 'nuts_2_region', 'nuts_3_region', 'lon', 'lat',\n",
    "                 'municipality', 'country', 'commissioning_date']\n",
    "    chunk = chunk[keep_cols]\n",
    "\n",
    "    # Filter the rows\n",
    "    chunk = chunk[chunk['energy_source_level_2'] == 'Wind'] # Only keep rows where energy_source_level_2 is 'Wind'\n",
    "    \n",
    "    # Drop duplicates\n",
    "    chunk = chunk.drop_duplicates()\n",
    "\n",
    "    # Append the filtered data to the list\n",
    "    filtered_data.append(chunk)\n",
    "\n",
    "# Concatenate the filtered data into a single DataFrame\n",
    "df = pd.concat(filtered_data, ignore_index=True)\n",
    "\n",
    "# Save cleaned data to a new CSV file\n",
    "df.to_csv('data source/wind_energy_EU_cleaned.csv', index=False)\n"
   ]
  },
  {
   "attachments": {},
   "cell_type": "markdown",
   "metadata": {},
   "source": [
    "## Step2. Data Storage"
   ]
  },
  {
   "cell_type": "code",
   "execution_count": null,
   "metadata": {},
   "outputs": [],
   "source": [
    "import pandas as pd\n",
    "import psycopg2\n",
    "\n",
    "# Connect to the PostgreSQL database\n",
    "conn = psycopg2.connect(database=\"mydatabase\", user=\"myuser\", password=\"mypassword\", host=\"localhost\", port=\"5432\")\n",
    "\n",
    "# Read the CSV file into a Pandas DataFrame\n",
    "df = pd.read_csv('data source/wind_energy_EU_cleaned.csv')\n",
    "\n",
    "# Insert the data into a PostgreSQL table\n",
    "df.to_sql('mytable', conn, if_exists='replace')"
   ]
  },
  {
   "attachments": {},
   "cell_type": "markdown",
   "metadata": {},
   "source": [
    "## Step3. Machine learning"
   ]
  },
  {
   "attachments": {},
   "cell_type": "markdown",
   "metadata": {},
   "source": [
    "1. Time series analysis: You could analyze how the installed electrical capacity of wind energy plants has changed over time, and identify any trends or patterns.\n",
    "\n",
    "2. Cluster analysis: You could group the wind energy plants based on their location, electrical capacity, or other variables, and identify any similarities or differences between the clusters.\n",
    "\n",
    "3. Geographic analysis: You could create a map of the wind energy plants and visualize the distribution of the plants across different regions or countries.\n",
    "\n",
    "4. Predictive modeling: You could use regression analysis or other machine learning techniques to predict the electrical capacity of wind energy plants based on their location, commissioning date, and other variables."
   ]
  },
  {
   "attachments": {},
   "cell_type": "markdown",
   "metadata": {},
   "source": [
    "### Time series analysis"
   ]
  },
  {
   "cell_type": "code",
   "execution_count": null,
   "metadata": {},
   "outputs": [],
   "source": [
    "import pandas as pd\n",
    "from sqlalchemy import create_engine\n",
    "\n",
    "# Define the connection string\n",
    "user = 'postgres'\n",
    "password = 'postgresql2023'\n",
    "host = 'localhost'\n",
    "port = '5432'\n",
    "database = 'wind_energy_database'\n",
    "connection_string = f'postgresql://{user}:{password}@{host}:{port}/{database}'\n",
    "\n",
    "# Create a connection to the database\n",
    "engine = create_engine(connection_string)\n",
    "\n",
    "# Define the SQL query to retrieve the data\n",
    "query = '''\n",
    "SELECT commissioning_date, electrical_capacity\n",
    "FROM mytable\n",
    "'''\n",
    "\n",
    "# Load the data into a pandas dataframe\n",
    "df = pd.read_sql(query, engine)\n",
    "\n",
    "# Convert commissioning_date to a datetime object\n",
    "df['commissioning_date'] = pd.to_datetime(df['commissioning_date'])\n",
    "\n",
    "# Set the index to commissioning_date\n",
    "df = df.set_index('commissioning_date')\n",
    "\n",
    "# Resample the data to monthly frequency\n",
    "monthly_df = df.resample('M').sum()\n",
    "\n",
    "# Plot the data\n",
    "monthly_df.plot(figsize=(10,5), title='Monthly Total Electrical Capacity')\n"
   ]
  },
  {
   "attachments": {},
   "cell_type": "markdown",
   "metadata": {},
   "source": [
    "### Cluster Analysis using K-Means clustering algorithm"
   ]
  },
  {
   "cell_type": "code",
   "execution_count": null,
   "metadata": {},
   "outputs": [],
   "source": [
    "import pandas as pd\n",
    "from sklearn.cluster import KMeans\n",
    "import matplotlib.pyplot as plt\n",
    "\n",
    "# SQL query to select relevant columns\n",
    "query = \"\"\"\n",
    "SELECT electrical_capacity, lon, lat\n",
    "FROM mytable\n",
    "\"\"\"\n",
    "\n",
    "# read data into a pandas dataframe\n",
    "df = pd.read_sql(query, engine)\n",
    "\n",
    "# drop any rows with missing values\n",
    "df = df.dropna()\n",
    "\n",
    "# normalize the data\n",
    "df_norm = (df - df.mean()) / df.std()\n",
    "\n",
    "# use K-Means clustering algorithm\n",
    "kmeans = KMeans(n_clusters=3, random_state=42).fit(df_norm[['electrical_capacity', 'lat', 'lon']])\n",
    "\n",
    "# plot the results\n",
    "plt.scatter(df_norm['lat'], df_norm['lon'], c=kmeans.labels_, cmap='viridis')\n",
    "plt.xlabel('Latitude')\n",
    "plt.ylabel('Longitude')\n",
    "plt.title('Wind Energy Cluster Analysis')\n",
    "plt.show()"
   ]
  },
  {
   "attachments": {},
   "cell_type": "markdown",
   "metadata": {},
   "source": [
    "### Geographic analysis"
   ]
  },
  {
   "cell_type": "code",
   "execution_count": null,
   "metadata": {},
   "outputs": [],
   "source": [
    "import pandas as pd\n",
    "import matplotlib.pyplot as plt\n",
    "from mpl_toolkits.basemap import Basemap\n",
    "from sqlalchemy import create_engine\n",
    "\n",
    "# Define the connection string\n",
    "user = 'postgres'\n",
    "password = 'postgresql2023'\n",
    "host = 'localhost'\n",
    "port = '5432'\n",
    "database = 'wind_energy_database'\n",
    "connection_string = f'postgresql://{user}:{password}@{host}:{port}/{database}'\n",
    "\n",
    "# Create a connection to the database\n",
    "engine = create_engine(connection_string)\n",
    "\n",
    "# define the SQL query to retrieve data with location information\n",
    "query = '''\n",
    "SELECT electrical_capacity, energy_source_level_2, technology, nuts_1_region, nuts_2_region, nuts_3_region,\n",
    "       lon, lat, municipality, country, commissioning_date\n",
    "FROM mytable\n",
    "WHERE lon IS NOT NULL AND lat IS NOT NULL\n",
    "'''\n",
    "\n",
    "# Load the data into a pandas dataframe\n",
    "df = pd.read_sql(query, engine)\n",
    "\n",
    "# # create a Basemap object to plot the map\n",
    "# m = Basemap(llcrnrlon=-10, llcrnrlat=35, urcrnrlon=35, urcrnrlat=70, resolution='i')\n",
    "\n",
    "# # plot the map boundaries, coastlines, and countries\n",
    "# m.drawmapboundary()\n",
    "# m.drawcoastlines(linewidth=0.5)\n",
    "# m.drawcountries(linewidth=0.5)\n",
    "\n",
    "# # plot the data as points on the map\n",
    "# x, y = m(df['lon'].values, df['lat'].values)\n",
    "# m.plot(x, y, 'bo', markersize=4)\n",
    "\n",
    "# # add a title to the plot\n",
    "# plt.title('Wind Energy Facilities in Europe')\n",
    "\n",
    "# # show the plot\n",
    "# plt.show()\n",
    "\n",
    "# Create a map using Basemap\n",
    "fig, ax = plt.subplots(figsize=(16,12))\n",
    "m = Basemap(projection='merc', lat_0=50, lon_0=10,\n",
    "            resolution='h', area_thresh=10000.0,\n",
    "            llcrnrlon=-11.5, llcrnrlat=34.5,\n",
    "            urcrnrlon=34.0, urcrnrlat=71.5)\n",
    "m.drawcoastlines()\n",
    "m.drawcountries()\n",
    "# Fill the continents with a light gray color\n",
    "m.fillcontinents(color='#FAEDCD', lake_color='#46bcec')\n",
    "\n",
    "m.drawmapboundary(fill_color='#EEEEEE')\n",
    "\n",
    "# Plot the locations of wind turbines on the map\n",
    "x, y = m(df['lon'].values, df['lat'].values)\n",
    "m.scatter(x, y, marker='o', alpha=0.5)\n",
    "\n",
    "# Set the title of the plot\n",
    "plt.title('Locations of Wind Turbines with Electrical Capacity >= 5 MW')\n",
    "\n",
    "# Display the plot\n",
    "plt.show()"
   ]
  },
  {
   "attachments": {},
   "cell_type": "markdown",
   "metadata": {},
   "source": [
    "### Predictive modeling"
   ]
  },
  {
   "cell_type": "code",
   "execution_count": 13,
   "metadata": {},
   "outputs": [
    {
     "name": "stdout",
     "output_type": "stream",
     "text": [
      "Mean squared error: 7452186.23\n"
     ]
    }
   ],
   "source": [
    "from sklearn.model_selection import train_test_split\n",
    "from sklearn.linear_model import LinearRegression\n",
    "from sklearn.metrics import mean_squared_error\n",
    "\n",
    "# Define the connection string\n",
    "user = 'postgres'\n",
    "password = 'postgresql2023'\n",
    "host = 'localhost'\n",
    "port = '5432'\n",
    "database = 'wind_energy_database'\n",
    "connection_string = f'postgresql://{user}:{password}@{host}:{port}/{database}'\n",
    "\n",
    "# Create a connection to the database\n",
    "engine = create_engine(connection_string)\n",
    "\n",
    "# read the data from the PostgreSQL table into a Pandas DataFrame\n",
    "df = pd.read_sql_table('mytable', engine)\n",
    "\n",
    "# drop any rows with missing values\n",
    "df = df.dropna()\n",
    "\n",
    "# select the features and target variable\n",
    "features = ['electrical_capacity', 'lon', 'lat']\n",
    "target = 'commissioning_date'\n",
    "\n",
    "# Parse the dates and convert to number of days since the earliest date\n",
    "ref_date = min(df['commissioning_date'])\n",
    "df['commissioning_date'] = (pd.to_datetime(df['commissioning_date']) - pd.to_datetime(ref_date)).dt.days\n",
    "\n",
    "X = df[features]\n",
    "y = df[target]\n",
    "\n",
    "# split the data into training and testing sets\n",
    "X_train, X_test, y_train, y_test = train_test_split(X, y, test_size=0.2, random_state=42)\n",
    "\n",
    "# train a linear regression model on the training set\n",
    "lr = LinearRegression()\n",
    "lr.fit(X_train, y_train)\n",
    "\n",
    "# make predictions on the testing set\n",
    "y_pred = lr.predict(X_test)\n",
    "\n",
    "# evaluate the model using mean squared error\n",
    "mse = mean_squared_error(y_test, y_pred)\n",
    "print(f\"Mean squared error: {mse:.2f}\")"
   ]
  },
  {
   "cell_type": "markdown",
   "metadata": {},
   "source": [
    "Ref:\n",
    "\n",
    "https://github.com/Shaza-Safi/Ontario_Sunshine_List\n",
    "\n",
    "https://github.com/microsoft/ML-For-Beginners\n",
    "\n",
    "https://github.com/microsoft/Data-Science-For-Beginners\n",
    "\n",
    "https://github.com/microsoft/AI-For-Beginners"
   ]
  }
 ],
 "metadata": {
  "kernelspec": {
   "display_name": "Python 3",
   "language": "python",
   "name": "python3"
  },
  "language_info": {
   "codemirror_mode": {
    "name": "ipython",
    "version": 3
   },
   "file_extension": ".py",
   "mimetype": "text/x-python",
   "name": "python",
   "nbconvert_exporter": "python",
   "pygments_lexer": "ipython3",
   "version": "3.9.1"
  },
  "orig_nbformat": 4
 },
 "nbformat": 4,
 "nbformat_minor": 2
}
